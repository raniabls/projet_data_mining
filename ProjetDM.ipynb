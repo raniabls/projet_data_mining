{
 "cells": [
  {
   "cell_type": "code",
   "execution_count": 1,
   "id": "b4732095-8c1c-4f50-ba65-f5702ecd8b53",
   "metadata": {},
   "outputs": [
    {
     "name": "stdout",
     "output_type": "stream",
     "text": [
      "   Unnamed: 0                   Unnamed: 1 Unnamed: 2 Unnamed: 3 Unnamed: 4  \\\n",
      "0         NaN                          NaN        NaN        NaN        NaN   \n",
      "1         NaN          Alloys (compostion)      Tg(K)      Tx(K)      Tl(K)   \n",
      "2         NaN  Ag30.8 Ca30.8 Mg23.1 Cu15.4        413        432        803   \n",
      "3         NaN         Ag38.4 Mg30.8 Ca30.8        394        426        805   \n",
      "4         NaN     Ag38.5 Ca30.8 Mg23 Cu7.7        384        416        854   \n",
      "5         NaN   Ag38.5 Mg38.5 Ca15.4 Cu7.7        405        436        842   \n",
      "6         NaN         Ag46.2 Ca30.7 Mg23.1        399        426        765   \n",
      "7         NaN     Ag46.2 Mg23.2 Ca23 Cu7.7        398        430        825   \n",
      "8         NaN     Ag50 Ca30.8 Mg11.5 Cu7.7        452        487        809   \n",
      "9         NaN    Ag53.8 Ca30.5 Mg7.7 Cu7.7        428        488        843   \n",
      "\n",
      "  Unnamed: 5  Unnamed: 6                  Unnamed: 7 Unnamed: 8 Unnamed: 9  \\\n",
      "0        NaN         NaN                         NaN        NaN        NaN   \n",
      "1  Dmax (mm)         NaN                      Alloys      Tg(K)      Tx(K)   \n",
      "2        2.5         NaN  Ag30.8 Mg30.8 Ca30.8 Cu7.7        407        427   \n",
      "3        0.5         NaN        Ag38.4 Mg38.4 Ca23.2        391        425   \n",
      "4          2         NaN  Ag38.5 Mg30.8 Ca23.1 Cu7.7        387        420   \n",
      "5        0.5         NaN  Ag46.2 Ca30.5 Mg15.4 Cu7.7        414        445   \n",
      "6        0.7         NaN        Ag46.2 Ca38.4 Mg15.3        407        439   \n",
      "7          2         NaN        Ag46.2 Mg30.7 Ca23.1        393        427   \n",
      "8          1         NaN    Ag50 Ca30.8 Mg19.2 Cu7.7        426        466   \n",
      "9        0.3         NaN  Ag53.8 Mg15.4 Ca23.1 Cu7.7        433        463   \n",
      "\n",
      "  Unnamed: 10 Unnamed: 11  \n",
      "0         NaN         NaN  \n",
      "1       Tl(K)   Dmax (mm)  \n",
      "2         809           2  \n",
      "3         796         1.1  \n",
      "4         833           3  \n",
      "5         805         0.8  \n",
      "6         809         0.3  \n",
      "7         880         0.5  \n",
      "8         797         1.2  \n",
      "9         831         0.5  \n"
     ]
    }
   ],
   "source": [
    "import pandas as pd\n",
    "\n",
    "# Lire ton fichier Excel\n",
    "df = pd.read_excel(\"BMGs-2024.xlsx\")\n",
    "\n",
    "# Afficher les 10 premières lignes pour comprendre\n",
    "print(df.head(10))"
   ]
  },
  {
   "cell_type": "code",
   "execution_count": 2,
   "id": "e4e59a53-1649-442d-899b-a312a1da0098",
   "metadata": {},
   "outputs": [
    {
     "name": "stdout",
     "output_type": "stream",
     "text": [
      "✅ Deux tableaux fusionnés et sauvegardés dans : BMGs_fusion.xlsx\n"
     ]
    }
   ],
   "source": [
    "import pandas as pd\n",
    "\n",
    "# Charger le fichier Excel\n",
    "xls = pd.ExcelFile(\"BMGs-2024.xlsx\")\n",
    "\n",
    "# Lire toutes les feuilles et concaténer\n",
    "df_all = pd.concat([xls.parse(sheet_name) for sheet_name in xls.sheet_names], ignore_index=True)\n",
    "\n",
    "# Supprimer les lignes entièrement vides\n",
    "df_all.dropna(how=\"all\", inplace=True)\n",
    "\n",
    "# Extraire les deux tableaux\n",
    "df1 = df_all.iloc[1:][['Unnamed: 1', 'Unnamed: 2', 'Unnamed: 3', 'Unnamed: 4', 'Unnamed: 5']]\n",
    "df1.columns = ['Alloys', 'Tg', 'Tx', 'Tl', 'Dmax']\n",
    "df1 = df1[df1['Alloys'].notna() & (df1['Alloys'] != 'Alloys')]\n",
    "\n",
    "df2 = df_all.iloc[1:][['Unnamed: 7', 'Unnamed: 8', 'Unnamed: 9', 'Unnamed: 10', 'Unnamed: 11']]\n",
    "df2.columns = ['Alloys', 'Tg', 'Tx', 'Tl', 'Dmax']\n",
    "df2 = df2[df2['Alloys'].notna() & (df2['Alloys'] != 'Alloys')]\n",
    "\n",
    "# Fusionner simplement les deux tableaux\n",
    "df_combined = pd.concat([df1, df2], ignore_index=True)\n",
    "\n",
    "# Sauvegarder sans faire de nettoyage\n",
    "df_combined.to_excel(\"BMGs_fusion.xlsx\", index=False)\n",
    "print(\"✅ Deux tableaux fusionnés et sauvegardés dans : BMGs_fusion.xlsx\")"
   ]
  },
  {
   "cell_type": "code",
   "execution_count": 3,
   "id": "377e43d0-7b2a-42e7-a4a2-758c102cdab9",
   "metadata": {},
   "outputs": [
    {
     "name": "stdout",
     "output_type": "stream",
     "text": [
      "✅ Fichier sauvegardé sous : BMGs_no_spaces2.xlsx\n"
     ]
    }
   ],
   "source": [
    "import pandas as pd\n",
    "\n",
    "# Charger le fichier fusionné\n",
    "df = pd.read_excel(\"BMGs_fusion.xlsx\")\n",
    "\n",
    "# Supprimer les espaces en ignorant les valeurs manquantes\n",
    "df['Alloys'] = df['Alloys'].astype(str).str.replace(\" \", \"\", regex=False)\n",
    "\n",
    "# Sauvegarder le résultat dans un nouveau fichier\n",
    "df.to_excel(\"BMGs_no_spaces2.xlsx\", index=False)\n",
    "print(\"✅ Fichier sauvegardé sous : BMGs_no_spaces2.xlsx\")"
   ]
  },
  {
   "cell_type": "code",
   "execution_count": 4,
   "id": "2fb4f3c8-ddff-4f91-a1b5-aedd7a6c75b4",
   "metadata": {},
   "outputs": [
    {
     "name": "stdout",
     "output_type": "stream",
     "text": [
      "🔹 Ligne 133 - Composition originale :\n",
      "{[(Fe60Co40)75B20Si5]96Nb4}99Cr1\n",
      "\n",
      "✅ Résultat après traitement :\n",
      "Fe42.768000 Co28.512000 B19.008000 Si4.752000 Nb3.960000Cr1\n"
     ]
    }
   ],
   "source": [
    "import pandas as pd\n",
    "import re\n",
    "\n",
    "# Fonction de traitement avec priorités corrigées\n",
    "def flatten_alloy(comp):\n",
    "    comp = str(comp).replace(\" \", \"\")\n",
    "\n",
    "    def expand_group(match, factor):\n",
    "        group = match.group(1)\n",
    "        pattern = r\"([A-Z][a-z]*)(\\d+(?:\\.\\d+)?)\"\n",
    "        expanded = [f\"{el}{float(pct)*factor/100:.6f}\" for el, pct in re.findall(pattern, group)]\n",
    "        return \" \".join(expanded)\n",
    "\n",
    "    def process(expr):\n",
    "        # Appliquer les priorités dans le bon ordre : (), [], {}\n",
    "        for pattern in [r\"\\(([^\\(\\)]+)\\)(\\d+(?:\\.\\d+)?)\", \n",
    "                        r\"\\[([^\\[\\]]+)\\](\\d+(?:\\.\\d+)?)\", \n",
    "                        r\"\\{([^\\{\\}]+)\\}(\\d+(?:\\.\\d+)?)\"]:\n",
    "            while re.search(pattern, expr):\n",
    "                expr = re.sub(pattern, lambda m: expand_group(m, float(m.group(2))), expr)\n",
    "        return expr\n",
    "\n",
    "    return process(comp)\n",
    "\n",
    "# Charger le fichier\n",
    "df = pd.read_excel(\"BMGs_no_spaces2.xlsx\")\n",
    "\n",
    "# Récupérer la ligne 133 (index 132)\n",
    "index = 132\n",
    "original = df.loc[index, \"Alloys\"]\n",
    "processed = flatten_alloy(original)\n",
    "\n",
    "# Afficher les résultats\n",
    "print(f\"🔹 Ligne 133 - Composition originale :\\n{original}\")\n",
    "print(f\"\\n✅ Résultat après traitement :\\n{processed}\")"
   ]
  },
  {
   "cell_type": "code",
   "execution_count": 5,
   "id": "9abd718a-5f22-448d-aa14-924d0a83124b",
   "metadata": {},
   "outputs": [
    {
     "name": "stdout",
     "output_type": "stream",
     "text": [
      "✅ Traitement terminé. Fichier sauvegardé sous : BMGs_expanded.xlsx\n"
     ]
    }
   ],
   "source": [
    "import pandas as pd\n",
    "import re\n",
    "\n",
    "def flatten_alloy(comp):\n",
    "    comp = str(comp).replace(\" \", \"\")\n",
    "\n",
    "    def expand_group(match, factor):\n",
    "        group = match.group(1)\n",
    "        pattern = r\"([A-Z][a-z]*)(\\d+(?:\\.\\d+)?)\"\n",
    "        expanded = [f\"{el}{float(pct) * factor / 100:.6f}\" for el, pct in re.findall(pattern, group)]\n",
    "        return \" \".join(expanded)\n",
    "\n",
    "    def process(expr):\n",
    "        # Priorité : () → [] → {}\n",
    "        patterns = [\n",
    "            r\"\\(([^\\(\\)]+)\\)(\\d+(?:\\.\\d+)?)\",\n",
    "            r\"\\[([^\\[\\]]+)\\](\\d+(?:\\.\\d+)?)\",\n",
    "            r\"\\{([^\\{\\}]+)\\}(\\d+(?:\\.\\d+)?)\",\n",
    "        ]\n",
    "        for pattern in patterns:\n",
    "            while re.search(pattern, expr):\n",
    "                expr = re.sub(pattern, lambda m: expand_group(m, float(m.group(2))), expr)\n",
    "        return expr\n",
    "\n",
    "    return process(comp)\n",
    "\n",
    "# Charger le fichier\n",
    "df = pd.read_excel(\"BMGs_no_spaces2.xlsx\")\n",
    "\n",
    "# Appliquer à toute la colonne\n",
    "df[\"Alloys\"] = df[\"Alloys\"].apply(flatten_alloy)\n",
    "\n",
    "# Sauvegarder le fichier avec les résultats\n",
    "df.to_excel(\"BMGs_expanded.xlsx\", index=False)\n",
    "print(\"✅ Traitement terminé. Fichier sauvegardé sous : BMGs_expanded.xlsx\")"
   ]
  },
  {
   "cell_type": "code",
   "execution_count": 19,
   "id": "0202cad3-5839-4293-84ce-b064ddc91f65",
   "metadata": {},
   "outputs": [
    {
     "name": "stdout",
     "output_type": "stream",
     "text": [
      "                                            Alloys\n",
      "128                   Fe58MoB111:L14514C15B6Cr5Er2\n",
      "346  Ti0.450000 Cu0.378000 Zr0.100000 Ni0.072000Sn\n"
     ]
    }
   ],
   "source": [
    "import re\n",
    "\n",
    "def is_valid_alloy_format(comp):\n",
    "    # Doit contenir uniquement des paires (élément chimique + nombre)\n",
    "    pattern = r'^([A-Z][a-z]?\\d+(\\.\\d+)?)+$'\n",
    "    return bool(re.match(pattern, comp.replace(\" \", \"\")))\n",
    "\n",
    "# Appliquer sur toutes les lignes\n",
    "df['Valid_Format'] = df['Alloys'].apply(is_valid_alloy_format)\n",
    "\n",
    "# Afficher les lignes invalides\n",
    "invalid_rows = df[df['Valid_Format'] == False]\n",
    "print(invalid_rows[['Alloys']])"
   ]
  },
  {
   "cell_type": "code",
   "execution_count": 6,
   "id": "68f85d4d-03d0-4888-a884-6a995e697536",
   "metadata": {},
   "outputs": [
    {
     "name": "stdout",
     "output_type": "stream",
     "text": [
      "✅ Traitement terminé. Fichier sauvegardé sous : BMGs_elements.xlsx\n",
      "                     Alloys     Tg     Tx     Tl  Dmax   Mo    Cu   Au   Ti  \\\n",
      "0  Ag30.8Ca30.8Mg23.1Cu15.4  413.0  432.0  803.0   2.5  0.0  15.4  0.0  0.0   \n",
      "1        Ag38.4Mg30.8Ca30.8  394.0  426.0  805.0   0.5  0.0   0.0  0.0  0.0   \n",
      "2     Ag38.5Ca30.8Mg23Cu7.7  384.0  416.0  854.0   2.0  0.0   7.7  0.0  0.0   \n",
      "3   Ag38.5Mg38.5Ca15.4Cu7.7  405.0  436.0  842.0   0.5  0.0   7.7  0.0  0.0   \n",
      "4        Ag46.2Ca30.7Mg23.1  399.0  426.0  765.0   0.7  0.0   0.0  0.0  0.0   \n",
      "\n",
      "    Hf  ...   Ta   Gd   Mn   Ga    C   Al   Nb   In    Ag   Tb  \n",
      "0  0.0  ...  0.0  0.0  0.0  0.0  0.0  0.0  0.0  0.0  30.8  0.0  \n",
      "1  0.0  ...  0.0  0.0  0.0  0.0  0.0  0.0  0.0  0.0  38.4  0.0  \n",
      "2  0.0  ...  0.0  0.0  0.0  0.0  0.0  0.0  0.0  0.0  38.5  0.0  \n",
      "3  0.0  ...  0.0  0.0  0.0  0.0  0.0  0.0  0.0  0.0  38.5  0.0  \n",
      "4  0.0  ...  0.0  0.0  0.0  0.0  0.0  0.0  0.0  0.0  46.2  0.0  \n",
      "\n",
      "[5 rows x 50 columns]\n"
     ]
    }
   ],
   "source": [
    "import pandas as pd\n",
    "import re\n",
    "\n",
    "# Charger le fichier\n",
    "df = pd.read_excel(\"BMGs_expanded.xlsx\")\n",
    "\n",
    "# Fonction pour extraire les éléments chimiques et leurs pourcentages\n",
    "def extract_elements(comp):\n",
    "    comp = str(comp).replace(\" \", \"\")\n",
    "    elements = re.findall(r\"([A-Z][a-z]*)(\\d+(?:\\.\\d+)?)\", comp)\n",
    "    return {el: float(pct) for el, pct in elements}\n",
    "\n",
    "# Extraire les éléments pour chaque ligne et créer une colonne par élément\n",
    "all_elements = set()\n",
    "\n",
    "# Extraire tous les éléments chimiques présents dans la colonne 'Alloys'\n",
    "df[\"elements_dict\"] = df[\"Alloys\"].apply(extract_elements)\n",
    "\n",
    "# Créer un ensemble d'éléments uniques\n",
    "for alloy in df[\"elements_dict\"]:\n",
    "    all_elements.update(alloy.keys())\n",
    "\n",
    "# Créer une nouvelle colonne pour chaque élément chimique\n",
    "for element in all_elements:\n",
    "    df[element] = df[\"elements_dict\"].apply(lambda x: x.get(element, 0))\n",
    "\n",
    "# Supprimer la colonne 'elements_dict' car elle n'est plus nécessaire\n",
    "df.drop(columns=[\"elements_dict\"], inplace=True)\n",
    "\n",
    "# Sauvegarder le fichier avec les colonnes des éléments\n",
    "df.to_excel(\"BMGs_elements.xlsx\", index=False)\n",
    "print(\"✅ Traitement terminé. Fichier sauvegardé sous : BMGs_elements.xlsx\")\n",
    "\n",
    "# Afficher un aperçu\n",
    "print(df.head())"
   ]
  },
  {
   "cell_type": "code",
   "execution_count": 22,
   "id": "ff339785-6ca6-44b6-a2fb-cee1e94d0185",
   "metadata": {},
   "outputs": [
    {
     "name": "stdout",
     "output_type": "stream",
     "text": [
      "🧪 Éléments chimiques présents dans le fichier :\n",
      "['Ag', 'Al', 'Au', 'B', 'Be', 'C', 'Ca', 'Ce', 'Co', 'Cr', 'Cu', 'Dy', 'Er', 'Fe', 'Ga', 'Gd', 'Hf', 'Ho', 'In', 'L', 'La', 'Mg', 'Mm', 'Mn', 'Mo', 'Nb', 'Nd', 'Ni', 'P', 'Pd', 'Pr', 'S', 'Sc', 'Si', 'Sm', 'Sn', 'Ta', 'Tb', 'Ti', 'Tm', 'V', 'W', 'Y', 'Zn', 'Zr']\n"
     ]
    }
   ],
   "source": [
    "# Colonnes initiales à ignorer\n",
    "initial_columns = {'Alloys', 'Tg', 'Tx', 'Tl', 'Dmax'}\n",
    "\n",
    "# Déduire les éléments chimiques extraits\n",
    "element_columns = [col for col in df.columns if col not in initial_columns]\n",
    "\n",
    "# Afficher tous les éléments chimiques extraits\n",
    "print(\"🧪 Éléments chimiques présents dans le fichier :\")\n",
    "print(sorted(element_columns))"
   ]
  },
  {
   "cell_type": "code",
   "execution_count": 7,
   "id": "03ba173c-a15e-413f-a429-e9cbb64f8312",
   "metadata": {},
   "outputs": [
    {
     "name": "stdout",
     "output_type": "stream",
     "text": [
      "⛔ Éléments non valides (absents de la table périodique) : ['L', 'Mm']\n"
     ]
    }
   ],
   "source": [
    "# Liste des éléments chimiques officiels de la table périodique (jusqu'à l'Oganesson)\n",
    "periodic_table_elements = {\n",
    "    'H', 'He', 'Li', 'Be', 'B', 'C', 'N', 'O', 'F', 'Ne',\n",
    "    'Na', 'Mg', 'Al', 'Si', 'P', 'S', 'Cl', 'Ar',\n",
    "    'K', 'Ca', 'Sc', 'Ti', 'V', 'Cr', 'Mn', 'Fe', 'Co', 'Ni', 'Cu', 'Zn',\n",
    "    'Ga', 'Ge', 'As', 'Se', 'Br', 'Kr',\n",
    "    'Rb', 'Sr', 'Y', 'Zr', 'Nb', 'Mo', 'Tc', 'Ru', 'Rh', 'Pd', 'Ag', 'Cd',\n",
    "    'In', 'Sn', 'Sb', 'Te', 'I', 'Xe',\n",
    "    'Cs', 'Ba', 'La', 'Ce', 'Pr', 'Nd', 'Pm', 'Sm', 'Eu', 'Gd', 'Tb', 'Dy', 'Ho', 'Er', 'Tm', 'Yb', 'Lu',\n",
    "    'Hf', 'Ta', 'W', 'Re', 'Os', 'Ir', 'Pt', 'Au', 'Hg',\n",
    "    'Tl', 'Pb', 'Bi', 'Po', 'At', 'Rn',\n",
    "    'Fr', 'Ra', 'Ac', 'Th', 'Pa', 'U', 'Np', 'Pu', 'Am', 'Cm', 'Bk', 'Cf', 'Es', 'Fm', 'Md', 'No', 'Lr',\n",
    "    'Rf', 'Db', 'Sg', 'Bh', 'Hs', 'Mt', 'Ds', 'Rg', 'Cn', 'Nh', 'Fl', 'Mc', 'Lv', 'Ts', 'Og'\n",
    "}\n",
    "\n",
    "# Liste des éléments extraits de ton fichier\n",
    "extracted_elements = ['Ag', 'Al', 'Au', 'B', 'Be', 'C', 'Ca', 'Ce', 'Co', 'Cr', 'Cu', 'Dy', 'Er', 'Fe', 'Ga',\n",
    "                      'Gd', 'Hf', 'Ho', 'In', 'L', 'La', 'Mg', 'Mm', 'Mn', 'Mo', 'Nb', 'Nd', 'Ni', 'P', 'Pd',\n",
    "                      'Pr', 'S', 'Sc', 'Si', 'Sm', 'Sn', 'Ta', 'Tb', 'Ti', 'Tm', 'V', 'W', 'Y', 'Zn', 'Zr']\n",
    "\n",
    "# Conversion en set pour comparaison\n",
    "extracted_set = set(extracted_elements)\n",
    "\n",
    "# Élément(s) non valides = présents dans le fichier mais pas dans la table périodique\n",
    "invalid_elements = extracted_set - periodic_table_elements\n",
    "\n",
    "# Affichage\n",
    "print(\"⛔ Éléments non valides (absents de la table périodique) :\", sorted(invalid_elements))"
   ]
  },
  {
   "cell_type": "code",
   "execution_count": 8,
   "id": "498d4825-3e4f-47ee-9a4f-984b8522f099",
   "metadata": {},
   "outputs": [
    {
     "name": "stdout",
     "output_type": "stream",
     "text": [
      "🔍 Lignes contenant des éléments invalides :\n",
      "                           Alloys     Tg     Tx      Tl  Dmax   Mo   Cu  Au  \\\n",
      "128  Fe58MoB111:L14514C15B6Cr5Er2  793.0  829.0  1416.0   6.0  0.0  0.0   0   \n",
      "685      Mm51.2Al23.2Cu9.3Ni9.3C7  507.7  581.5   985.0  10.0  0.0  9.3   0   \n",
      "\n",
      "      Ti   Hf  ...   Ta   Gd  Mn   Ga     C    Al   Nb  In   Ag   Tb  \n",
      "128  0.0  0.0  ...  0.0  0.0   0  0.0  15.0   0.0  0.0   0  0.0  0.0  \n",
      "685  0.0  0.0  ...  0.0  0.0   0  0.0   7.0  23.2  0.0   0  0.0  0.0  \n",
      "\n",
      "[2 rows x 50 columns]\n"
     ]
    }
   ],
   "source": [
    "import pandas as pd\n",
    "import re\n",
    "\n",
    "# Charger le fichier\n",
    "df = pd.read_excel(\"BMGs_elements.xlsx\")\n",
    "\n",
    "# Liste des éléments chimiques non valides\n",
    "invalid_elements = ['L', 'Mm']\n",
    "\n",
    "# Fonction pour extraire les éléments chimiques de l'alliage\n",
    "def extract_elements_only(comp):\n",
    "    comp = str(comp).replace(\" \", \"\")\n",
    "    elements = re.findall(r\"([A-Z][a-z]*)\\d*\", comp)\n",
    "    return elements\n",
    "\n",
    "# Identifier les lignes contenant au moins un élément invalide\n",
    "def contains_invalid_elements(comp):\n",
    "    elements = extract_elements_only(comp)\n",
    "    return any(el in invalid_elements for el in elements)\n",
    "\n",
    "# Filtrer les lignes contenant des éléments invalides\n",
    "invalid_rows = df[df[\"Alloys\"].apply(contains_invalid_elements)]\n",
    "\n",
    "# Affichage\n",
    "print(\"🔍 Lignes contenant des éléments invalides :\")\n",
    "print(invalid_rows)"
   ]
  },
  {
   "cell_type": "code",
   "execution_count": 9,
   "id": "fd0139ba-3358-497a-b884-920dc6bb8757",
   "metadata": {},
   "outputs": [
    {
     "name": "stdout",
     "output_type": "stream",
     "text": [
      "✅ Fichier nettoyé : BMGs_clean.xlsx\n",
      "🗑️ Lignes supprimées (enregistrées dans BMGs_removed.xlsx) :\n",
      "                                            Alloys     Tg     Tx      Tl  \\\n",
      "128                   Fe58MoB111:L14514C15B6Cr5Er2  793.0  829.0  1416.0   \n",
      "346  Ti0.450000 Cu0.378000 Zr0.100000 Ni0.072000Sn  641.0  680.0  1167.0   \n",
      "685                       Mm51.2Al23.2Cu9.3Ni9.3C7  507.7  581.5   985.0   \n",
      "\n",
      "     Dmax   Mo     Cu  Au    Ti   Hf  ...   Ta   Gd  Mn   Ga     C    Al   Nb  \\\n",
      "128   6.0  0.0  0.000   0  0.00  0.0  ...  0.0  0.0   0  0.0  15.0   0.0  0.0   \n",
      "346   1.0  0.0  0.378   0  0.45  0.0  ...  0.0  0.0   0  0.0   0.0   0.0  0.0   \n",
      "685  10.0  0.0  9.300   0  0.00  0.0  ...  0.0  0.0   0  0.0   7.0  23.2  0.0   \n",
      "\n",
      "     In   Ag   Tb  \n",
      "128   0  0.0  0.0  \n",
      "346   0  0.0  0.0  \n",
      "685   0  0.0  0.0  \n",
      "\n",
      "[3 rows x 50 columns]\n"
     ]
    }
   ],
   "source": [
    "import pandas as pd\n",
    "import re\n",
    "\n",
    "# Charger le fichier\n",
    "df = pd.read_excel(\"BMGs_elements.xlsx\")\n",
    "\n",
    "# Liste des éléments chimiques valides (en majuscule)\n",
    "valid_elements = set([\n",
    "    'Ag', 'Al', 'Au', 'B', 'Be', 'C', 'Ca', 'Ce', 'Co', 'Cr', 'Cu', 'Dy', 'Er', 'Fe', 'Ga', 'Gd', \n",
    "    'Hf', 'Ho', 'In', 'La', 'Mg', 'Mn', 'Mo', 'Nb', 'Nd', 'Ni', 'P', 'Pd', 'Pr', 'S', 'Sc', 'Si', \n",
    "    'Sm', 'Sn', 'Ta', 'Tb', 'Ti', 'Tm', 'V', 'W', 'Y', 'Zn', 'Zr'\n",
    "])\n",
    "\n",
    "# Fonction pour extraire les éléments chimiques et leurs pourcentages\n",
    "def extract_elements(comp):\n",
    "    comp = str(comp).replace(\" \", \"\")\n",
    "    elements = re.findall(r\"([A-Z][a-z]*)(\\d+(?:\\.\\d+)?)\", comp)\n",
    "    return {el: float(pct) for el, pct in elements}\n",
    "\n",
    "# Fonction pour détecter les éléments invalides (pas de pourcentage ou non existants)\n",
    "def has_invalid_elements(alloy):\n",
    "    alloy = str(alloy).replace(\" \", \"\")\n",
    "    tokens = re.findall(r\"[A-Z][a-z]*\\d*(?:\\.\\d+)?\", alloy)\n",
    "    \n",
    "    for token in tokens:\n",
    "        match = re.match(r\"([A-Z][a-z]*)(\\d*(?:\\.\\d+)?)\", token)\n",
    "        if match:\n",
    "            el, val = match.groups()\n",
    "            # Si l'élément n'est pas valide ou si le pourcentage est manquant\n",
    "            if el not in valid_elements or val == '':\n",
    "                return True\n",
    "    return False\n",
    "\n",
    "# Supprimer les lignes contenant des éléments non valides\n",
    "invalid_rows = df[df[\"Alloys\"].apply(has_invalid_elements)]\n",
    "df_cleaned = df[~df[\"Alloys\"].apply(has_invalid_elements)]\n",
    "\n",
    "# Sauvegarder les lignes supprimées dans un fichier séparé\n",
    "invalid_rows.to_excel(\"BMGs_removed.xlsx\", index=False)\n",
    "\n",
    "# Sauvegarder le fichier nettoyé\n",
    "df_cleaned.to_excel(\"BMGs_clean.xlsx\", index=False)\n",
    "\n",
    "print(\"✅ Fichier nettoyé : BMGs_clean.xlsx\")\n",
    "\n",
    "# Afficher les lignes supprimées\n",
    "print(\"🗑️ Lignes supprimées (enregistrées dans BMGs_removed.xlsx) :\")\n",
    "print(invalid_rows)"
   ]
  },
  {
   "cell_type": "code",
   "execution_count": 10,
   "id": "cb461c1d-d2dd-4013-a6ed-bccfee8a9ca0",
   "metadata": {},
   "outputs": [
    {
     "name": "stdout",
     "output_type": "stream",
     "text": [
      "⚠️ Lignes avec des pourcentages anormaux :\n",
      "                                                Alloys  total_percentage\n",
      "169    Fe70.080000 B19.200000 Si4.800000 Tb2.880000Nb4            100.96\n",
      "191                      La0.195000 Ce0.455000Al10Co25             35.65\n",
      "192                      La0.260000 Ce0.390000Al10Co25             35.65\n",
      "193                      La0.325000 Ce0.325000Al10Co25             35.65\n",
      "197                                       La55.4Al18.4             73.80\n",
      "202                                       La57.6Al17.5             75.10\n",
      "203                                       La59.6Al16.6             76.20\n",
      "205                                       La61.4Al15.9             77.30\n",
      "206                                           La62Al14             76.00\n",
      "217                                       La63.1Al15.2             78.30\n",
      "220                                           La68Al14             82.00\n",
      "221                                           La70Al14             84.00\n",
      "279                                            Pr72Al3             75.00\n",
      "336                  Y0.058800 Fe0.705600 B0.215600Ti2              2.98\n",
      "339                                    Ti50Ni30Cu32Sn3            115.00\n",
      "354                              Ag50Ca30.8Mg19.2Cu7.7            107.70\n",
      "372                                       Ca55Mg25Cu30            110.00\n",
      "407                                     Cu36Zr36Al8Ag8             88.00\n",
      "409                                     Cu38Zr38Al8Ag8             92.00\n",
      "453                                    Cu42.5Zr40Ga7.5             90.00\n",
      "472  Fe56Co20Mo4P0.090000 C0.040000 B0.040000 Si0.0...             80.20\n",
      "514     Fe69.120000 Si4.800000 Tb2.880000 B1.920000Nb4             82.72\n",
      "524                Fe72.000000 B1.920000 Si4.800000Nb4             82.72\n",
      "539                      La0.390000 Ce0.260000Al10Co25             35.65\n",
      "540                      La0.455000 Ce0.195000Al10Co25             35.65\n",
      "541                      La0.520000 Ce0.130000Al10Co25             35.65\n",
      "549                                       La56.5Al17.9             74.40\n",
      "550                                       La58.6Al17.0             75.60\n",
      "552                                       La60.5Al16.3             76.80\n",
      "553                                         La62Al15.6             77.60\n",
      "565                                       La64.6Al14.6             79.20\n",
      "566                                           La66Al14             80.00\n",
      "567                                         La68Al13.2             81.20\n",
      "569                                         La70Al12.4             82.40\n",
      "626                                            Pr72Al7             79.00\n",
      "659                                      Zr55Al2Co2Cu5             64.00\n",
      "680                  Y0.058800 Fe0.705600 B0.215600Nb2              2.98\n",
      "681                  Y0.058800 Fe0.705600 B0.215600Ta2              2.98\n",
      "689     Ti0.441000 Cu0.370440 Zr0.098000 Ni0.070560Sn2              2.98\n",
      "690     Ti0.432000 Cu0.362880 Zr0.096000 Ni0.069120Sn4              4.96\n",
      "691     Ti0.423000 Cu0.355320 Zr0.094000 Ni0.067680Sn6              6.94\n"
     ]
    }
   ],
   "source": [
    "import pandas as pd\n",
    "import re\n",
    "\n",
    "# Charger le fichier\n",
    "df = pd.read_excel(\"BMGs_clean.xlsx\")\n",
    "\n",
    "# Fonction pour extraire les éléments chimiques et leurs pourcentages\n",
    "def extract_elements(comp):\n",
    "    comp = str(comp).replace(\" \", \"\")\n",
    "    elements = re.findall(r\"([A-Z][a-z]*)(\\d+(?:\\.\\d+)?)\", comp)\n",
    "    return {el: float(pct) for el, pct in elements}\n",
    "\n",
    "# Fonction pour vérifier si la somme des pourcentages est hors de la plage [99.5, 100.5]\n",
    "def is_percentage_abnormal(alloy):\n",
    "    alloy_elements = extract_elements(alloy)\n",
    "    total_percentage = sum(alloy_elements.values())\n",
    "    return total_percentage, not (99.5 <= total_percentage <= 100.5)\n",
    "\n",
    "# Appliquer la vérification sur la colonne 'Alloys'\n",
    "df['total_percentage'], df['is_abnormal'] = zip(*df[\"Alloys\"].apply(is_percentage_abnormal))\n",
    "\n",
    "# Filtrer les lignes où les pourcentages sont anormaux\n",
    "abnormal_percentage_rows = df[df['is_abnormal']]\n",
    "\n",
    "# Afficher seulement les colonnes 'Alloys' et 'total_percentage' pour les lignes anormales\n",
    "if not abnormal_percentage_rows.empty:\n",
    "    print(\"⚠️ Lignes avec des pourcentages anormaux :\")\n",
    "    print(abnormal_percentage_rows[['Alloys', 'total_percentage']])\n",
    "else:\n",
    "    print(\"✅ Aucune ligne avec des pourcentages anormaux.\")\n",
    "\n",
    "# Optionnel : sauvegarder les lignes avec des pourcentages anormaux dans un fichier séparé\n",
    "abnormal_percentage_rows[['Alloys', 'total_percentage']].to_excel(\"BMGs_abnormal_percentage.xlsx\", index=False)"
   ]
  },
  {
   "cell_type": "code",
   "execution_count": 12,
   "id": "45b232e4",
   "metadata": {},
   "outputs": [
    {
     "name": "stdout",
     "output_type": "stream",
     "text": [
      "Collecting kneed\n",
      "  Obtaining dependency information for kneed from https://files.pythonhosted.org/packages/9a/1b/7e726d8616e813007874468c61790099ba21493e0ea07561b7d9fc53151c/kneed-0.8.5-py3-none-any.whl.metadata\n",
      "  Downloading kneed-0.8.5-py3-none-any.whl.metadata (5.5 kB)\n",
      "Requirement already satisfied: numpy>=1.14.2 in c:\\users\\hp\\anaconda3\\lib\\site-packages (from kneed) (1.26.4)\n",
      "Requirement already satisfied: scipy>=1.0.0 in c:\\users\\hp\\anaconda3\\lib\\site-packages (from kneed) (1.13.1)\n",
      "Downloading kneed-0.8.5-py3-none-any.whl (10 kB)\n",
      "Installing collected packages: kneed\n",
      "Successfully installed kneed-0.8.5\n",
      "Note: you may need to restart the kernel to use updated packages.\n"
     ]
    }
   ],
   "source": [
    "pip install kneed"
   ]
  },
  {
   "cell_type": "code",
   "execution_count": 11,
   "id": "a0140250",
   "metadata": {},
   "outputs": [
    {
     "ename": "ModuleNotFoundError",
     "evalue": "No module named 'kneed'",
     "output_type": "error",
     "traceback": [
      "\u001b[1;31m---------------------------------------------------------------------------\u001b[0m",
      "\u001b[1;31mModuleNotFoundError\u001b[0m                       Traceback (most recent call last)",
      "Cell \u001b[1;32mIn[11], line 5\u001b[0m\n\u001b[0;32m      3\u001b[0m \u001b[38;5;28;01mfrom\u001b[39;00m \u001b[38;5;21;01msklearn\u001b[39;00m\u001b[38;5;21;01m.\u001b[39;00m\u001b[38;5;21;01mcluster\u001b[39;00m \u001b[38;5;28;01mimport\u001b[39;00m KMeans\n\u001b[0;32m      4\u001b[0m \u001b[38;5;28;01mfrom\u001b[39;00m \u001b[38;5;21;01msklearn\u001b[39;00m\u001b[38;5;21;01m.\u001b[39;00m\u001b[38;5;21;01mdecomposition\u001b[39;00m \u001b[38;5;28;01mimport\u001b[39;00m PCA\n\u001b[1;32m----> 5\u001b[0m \u001b[38;5;28;01mfrom\u001b[39;00m \u001b[38;5;21;01mkneed\u001b[39;00m \u001b[38;5;28;01mimport\u001b[39;00m KneeLocator\n\u001b[0;32m      6\u001b[0m \u001b[38;5;28;01mimport\u001b[39;00m \u001b[38;5;21;01mnumpy\u001b[39;00m \u001b[38;5;28;01mas\u001b[39;00m \u001b[38;5;21;01mnp\u001b[39;00m\n\u001b[0;32m      8\u001b[0m \u001b[38;5;66;03m# Charger les données\u001b[39;00m\n",
      "\u001b[1;31mModuleNotFoundError\u001b[0m: No module named 'kneed'"
     ]
    }
   ],
   "source": [
    "import pandas as pd\n",
    "import matplotlib.pyplot as plt\n",
    "from sklearn.cluster import KMeans\n",
    "from sklearn.decomposition import PCA\n",
    "from kneed import KneeLocator\n",
    "import numpy as np\n",
    "\n",
    "# Charger les données\n",
    "df = pd.read_excel(\"BMGs_clean.xlsx\")\n",
    "\n",
    "# Définir les colonnes chimiques\n",
    "exclude_cols = ['Tg', 'Tx', 'Tl', 'Dmax', 'Alloys']\n",
    "element_columns = [col for col in df.columns if col not in exclude_cols]\n",
    "X = df[element_columns]\n",
    "\n",
    "# Calculer l'inertie pour différents k\n",
    "inertias = []\n",
    "k_range = range(1, 11)\n",
    "for k in k_range:\n",
    "    kmeans = KMeans(n_clusters=k, random_state=42, n_init=10)\n",
    "    kmeans.fit(X)\n",
    "    inertias.append(kmeans.inertia_)\n",
    "\n",
    "# Trouver le \"coude\" (k optimal)\n",
    "kl = KneeLocator(k_range, inertias, curve='convex', direction='decreasing')\n",
    "best_k = kl.elbow\n",
    "print(f\"✅ Le meilleur k  est : {best_k}\")\n",
    "\n",
    "# Affichage Elbow avec point optimal\n",
    "plt.figure(figsize=(8, 4))\n",
    "plt.plot(k_range, inertias, marker='o', label=\"Inertie\")\n",
    "if best_k:\n",
    "    plt.axvline(best_k, color='r', linestyle='--', label=f\"Coude détecté : k={best_k}\")\n",
    "plt.title(\"Méthode du Elbow\")\n",
    "plt.xlabel(\"Nombre de clusters (k)\")\n",
    "plt.ylabel(\"Inertie\")\n",
    "plt.grid(True)\n",
    "plt.legend()\n",
    "plt.tight_layout()\n",
    "plt.show()\n",
    "\n",
    "# Clustering final avec le bon k\n",
    "kmeans = KMeans(n_clusters=best_k, random_state=42, n_init=10)\n",
    "df[\"Cluster\"] = kmeans.fit_predict(X)\n",
    "\n",
    "# PCA pour affichage\n",
    "pca = PCA(n_components=2)\n",
    "X_pca = pca.fit_transform(X)\n",
    "\n",
    "plt.figure(figsize=(8, 6))\n",
    "for i in range(best_k):\n",
    "    plt.scatter(X_pca[df['Cluster'] == i, 0], X_pca[df['Cluster'] == i, 1], label=f\"Cluster {i}\")\n",
    "plt.title(f\"KMeans Clustering (PCA, k={best_k})\")\n",
    "plt.xlabel(\"PC1\")\n",
    "plt.ylabel(\"PC2\")\n",
    "plt.legend()\n",
    "plt.grid(True)\n",
    "plt.tight_layout()\n",
    "plt.show()\n",
    "\n",
    "# Sauvegarder\n",
    "df.to_excel(\"BMGsFINAL.xlsx\", index=False)\n",
    "print(\"📁 Résultats enregistrés dans : BMGsFINAL.xlsx\")"
   ]
  },
  {
   "cell_type": "code",
   "execution_count": 5,
   "id": "b33b9f4a",
   "metadata": {},
   "outputs": [
    {
     "data": {
      "image/png": "[encoded data removed]",
      "text/plain": [
       "<Figure size 1200x600 with 1 Axes>"
      ]
     },
     "metadata": {},
     "output_type": "display_data"
    }
   ],
   "source": [
    "# Les analyses post-clustering \n",
    "\n",
    "#1.Détermination des éléments dominants dans chaque cluster \n",
    "chemical_means = df.groupby(\"Cluster\")[element_columns].mean()\n",
    "chemical_means.T.plot(kind='bar', figsize=(12,6))\n",
    "plt.title(\"Moyenne de composition chimique par cluster\")\n",
    "plt.xlabel(\"Élément\")\n",
    "plt.ylabel(\"Pourcentage moyen\")\n",
    "plt.grid(True)\n",
    "plt.show()\n",
    "\n",
    "#Ici on remarque que Fe est dominant dans le deuxieme cluster "
   ]
  },
  {
   "cell_type": "code",
   "execution_count": 6,
   "id": "2cdae7f7",
   "metadata": {},
   "outputs": [
    {
     "name": "stdout",
     "output_type": "stream",
     "text": [
      "Silhouette score : 0.411\n"
     ]
    }
   ],
   "source": [
    "# 2.Silhouette score (qualité du clustering) \n",
    "# plus proche de 1 = meilleur regroupement / Plus proche de 0 = clusters mal séparés\n",
    "from sklearn.metrics import silhouette_score\n",
    "\n",
    "score = silhouette_score(X, df[\"Cluster\"])\n",
    "print(f\"Silhouette score : {score:.3f}\")"
   ]
  },
  {
   "cell_type": "code",
   "execution_count": 11,
   "id": "3a21cf88",
   "metadata": {},
   "outputs": [
    {
     "name": "stdout",
     "output_type": "stream",
     "text": [
      "                 Tg          Tx           Tl      Dmax\n",
      "Cluster                                               \n",
      "0        543.431707  592.521341   951.462805  6.069207\n",
      "1        829.468919  881.531081  1409.436486  3.005743\n",
      "2        685.213592  748.543689  1166.932039  7.550971\n",
      "3        415.361582  453.028249   761.943503  3.553672\n"
     ]
    }
   ],
   "source": [
    "#3.la moyenne des propriétés physiques (Tg, Tx, Tl, Dmax) pour chacun des 4 clusters\n",
    "print(df.groupby(\"Cluster\")[[\"Tg\", \"Tx\", \"Tl\", \"Dmax\"]].mean())"
   ]
  },
  {
   "cell_type": "code",
   "execution_count": 14,
   "id": "8715e9dc",
   "metadata": {},
   "outputs": [
    {
     "data": {
      "image/png": "[encoded data removed]",
      "text/plain": [
       "<Figure size 1000x600 with 2 Axes>"
      ]
     },
     "metadata": {},
     "output_type": "display_data"
    }
   ],
   "source": [
    "# Visualisation des moyennes des proprietes physiques\n",
    "import seaborn as sns\n",
    "import matplotlib.pyplot as plt\n",
    "\n",
    "df_grouped = df.groupby(\"Cluster\")[[\"Tg\", \"Tx\", \"Tl\", \"Dmax\"]].mean()\n",
    "plt.figure(figsize=(10, 6))\n",
    "sns.heatmap(df_grouped, annot=True, fmt=\".2f\")\n",
    "plt.title(\"Moyennes des propriétés physiques par cluster\")\n",
    "plt.tight_layout()\n",
    "plt.show()"
   ]
  },
  {
   "cell_type": "code",
   "execution_count": null,
   "id": "dc04a3ff",
   "metadata": {},
   "outputs": [],
   "source": []
  }
 ],
 "metadata": {
  "kernelspec": {
   "display_name": "Python 3 (ipykernel)",
   "language": "python",
   "name": "python3"
  },
  "language_info": {
   "codemirror_mode": {
    "name": "ipython",
    "version": 3
   },
   "file_extension": ".py",
   "mimetype": "text/x-python",
   "name": "python",
   "nbconvert_exporter": "python",
   "pygments_lexer": "ipython3",
   "version": "3.11.5"
  }
 },
 "nbformat": 4,
 "nbformat_minor": 5
}
